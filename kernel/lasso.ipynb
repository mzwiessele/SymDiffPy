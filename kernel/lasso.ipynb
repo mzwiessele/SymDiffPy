{
 "metadata": {
  "name": "",
  "signature": "sha256:00068a4f39ed42259282c62d8ccda76a3755ee33b7c43c9496f0708fef0bdece"
 },
 "nbformat": 3,
 "nbformat_minor": 0,
 "worksheets": [
  {
   "cells": [
    {
     "cell_type": "code",
     "collapsed": false,
     "input": [
      "import GPy\n",
      "import theano.tensor as T"
     ],
     "language": "python",
     "metadata": {},
     "outputs": [],
     "prompt_number": 2
    },
    {
     "cell_type": "code",
     "collapsed": false,
     "input": [
      "class Lasso(GPy.core.Model):\n",
      "    def __init__(self, X, Y, l, beta=None):\n",
      "        self.X = X\n",
      "        self.Y = Y\n",
      "        self.l = l\n",
      "        \n",
      "        if beta is None:\n",
      "            beta = np.zeros(self.X.shape[1], self.Y.shape[1])\n",
      "        \n",
      "        self.beta = GPy.core.Param(beta)\n",
      "        \n",
      "        self.link_parameter(self.beta)\n",
      "        \n",
      "        self.T_beta = T.dmatrix('beta')\n",
      "        self.T_X = T.dmatrix('X')\n",
      "        self.T_lik = T\n",
      "    \n",
      "    \n",
      "    def parameters_changed(self):"
     ],
     "language": "python",
     "metadata": {},
     "outputs": []
    }
   ],
   "metadata": {}
  }
 ]
}