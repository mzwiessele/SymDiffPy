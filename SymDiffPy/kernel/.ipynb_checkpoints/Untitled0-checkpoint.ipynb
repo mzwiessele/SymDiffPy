{
 "metadata": {
  "name": "",
  "signature": "sha256:cbcda83746a1db33b46f4dff921da254585b08889703e10d9ee29033396b3308"
 },
 "nbformat": 3,
 "nbformat_minor": 0,
 "worksheets": []
}