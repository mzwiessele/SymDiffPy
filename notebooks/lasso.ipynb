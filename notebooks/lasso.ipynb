{
 "metadata": {
  "name": "",
  "signature": "sha256:01c413eb3dba5fea863bf15ba0be05eb25e8781965d855bd51541ee49a219ebf"
 },
 "nbformat": 3,
 "nbformat_minor": 0,
 "worksheets": [
  {
   "cells": [
    {
     "cell_type": "code",
     "collapsed": false,
     "input": [],
     "language": "python",
     "metadata": {},
     "outputs": [],
     "prompt_number": 1
    },
    {
     "cell_type": "code",
     "collapsed": false,
     "input": [
      "class Lasso(GPy.core.Parameterized):\n",
      "    def __init__(self, X, Y, l, beta=None, name=\"lasso\"):\n",
      "        super(Lasso, self).__init__(name=name)\n",
      "        self.X = X\n",
      "        self.Y = Y\n",
      "        self.l = l\n",
      "        \n",
      "        if beta is None:\n",
      "            beta = np.zeros((self.X.shape[1], self.Y.shape[1]))\n",
      "        \n",
      "        self.beta = GPy.core.parameterization.Param(\"beta\", beta)\n",
      "        self.link_parameter(self.beta)\n",
      "        \n",
      "        # Theano init\n",
      "        self.T_beta = T.dmatrix('beta')\n",
      "        self.T_X = T.dmatrix('X')\n",
      "        self.T_Y = T.dmatrix('Y')\n",
      "        \n",
      "        self.T_obj = T.sum(T.sqr(self.T_Y - T.dot(self.T_X, self.T_beta))) + T.sum(T.abs_(self.l * self.T_beta))\n",
      "        self.T_grad = theano.grad(self.T_obj, self.T_beta)\n",
      "\n",
      "        self.f_obj = theano.function([self.T_Y, self.T_X, self.T_beta], self.T_obj)\n",
      "        self.f_grad = theano.function([self.T_Y, self.T_X, self.T_beta], self.T_grad)\n",
      "\n",
      "    def log_likelihood(self):\n",
      "        return -self._obj\n",
      "        \n",
      "    def parameters_changed(self):\n",
      "        self._obj = self.f_obj(self.Y, self.X, self.beta)\n",
      "        self.beta.gradient[:] = -self.f_grad(self.Y, self.X, self.beta)"
     ],
     "language": "python",
     "metadata": {},
     "outputs": [],
     "prompt_number": 2
    },
    {
     "cell_type": "code",
     "collapsed": false,
     "input": [
      "n, p, d = 40, 1, 1\n",
      "\n",
      "X = np.c_[[np.linspace(0,1,n) for _ in range(p)]].T\n",
      "\n",
      "Y = np.sin(np.pi*X + 2) - np.cos(2*np.pi*X) + np.random.normal(0, .1, (n, d))"
     ],
     "language": "python",
     "metadata": {},
     "outputs": [],
     "prompt_number": 3
    },
    {
     "cell_type": "code",
     "collapsed": false,
     "input": [
      "plt.scatter(X,Y)"
     ],
     "language": "python",
     "metadata": {},
     "outputs": [
      {
       "metadata": {},
       "output_type": "pyout",
       "prompt_number": 4,
       "text": [
        "<matplotlib.collections.PathCollection at 0x1107dc810>"
       ]
      },
      {
       "metadata": {},
       "output_type": "display_data",
       "png": "[encoded data removed]",
       "text": [
        "<matplotlib.figure.Figure at 0x1107adbd0>"
       ]
      }
     ],
     "prompt_number": 4
    },
    {
     "cell_type": "code",
     "collapsed": false,
     "input": [
      "class GP(GPy.core.Model):\n",
      "    def __init__(self, X, Y, kernel=None, mean=None, name=\"GP\"):\n",
      "        super(GP, self).__init__(name=name)\n",
      "        self.X = X\n",
      "        self.Y = Y\n",
      "        if mean is None:\n",
      "            mean = 0.\n",
      "        self.mean = mean\n",
      "        self.kernel = kernel\n",
      "\n",
      "        self.num_data, self.output_dim, self.input_dim = self.X.shape[0], self.Y.shape[1], self.X.shape[1]        \n",
      "        self.sigma = GPy.Param('noise', 1., GPy.constraints.Logexp())\n",
      "\n",
      "        self.link_parameter(self.sigma)\n",
      "        self.link_parameter(self.kernel)\n",
      "        \n",
      "        #Theano init\n",
      "        if isinstance(self.mean, GPy.Parameterized):\n",
      "            self.mean.init_theano(self.T_X1, self.T_X2)\n",
      "            self.link_parameter(self.mean)\n",
      "        \n",
      "        self.T_X1 = T.dmatrix('X1')\n",
      "        self.T_X2 = T.dmatrix('X2')\n",
      "        self.T_sigma = T.dvector('sigma')\n",
      "\n",
      "        self.kernel.init_theano(self.T_X1, self.T_X2)\n",
      "        \n",
      "        T_K = self.kernel.T_K + T.eye(self.num_data)*(self.T_sigma[0]+1e-6)\n",
      "        #T_L = slinalg.cholesky(T_K)\n",
      "        T_Kinv = nlinalg.matrix_inverse(T_K)\n",
      "        \n",
      "        Y_mean = (self.Y - self.mean)\n",
      "        self.T_obj = (- .5*self.num_data*self.output_dim*T.log(2.*np.pi) \n",
      "                      - .5*self.output_dim*T.log(nlinalg.det(T_K))\n",
      "                      #- self.output_dim*nlinalg.trace(T.log(T_L))\n",
      "                      - .5*nlinalg.trace((T.dot(Y_mean.T, T.dot(T_Kinv, Y_mean))))\n",
      "                      )\n",
      "        self.T_grad = theano.grad(self.T_obj, [self.T_sigma] + self.kernel.T_list)\n",
      "        \n",
      "        self.f_obj = theano.function([self.T_X1, self.T_X2, self.T_sigma] + kernel.T_list, [self.T_obj, T_Kinv])\n",
      "        self.f_grad = theano.function([self.T_X1, self.T_X2, self.T_sigma] + kernel.T_list, self.T_grad)\n",
      "        \n",
      "    def log_likelihood(self):\n",
      "        return self._obj\n",
      "        \n",
      "    def parameters_changed(self):\n",
      "        param_list = [self.X, self.X, self.sigma] + self.kernel.parameters\n",
      "        self._obj, self._Kinv = self.f_obj(*param_list)\n",
      "        grads = self.f_grad(*param_list)\n",
      "        \n",
      "        self.sigma.gradient[:] = grads[0]\n",
      "        self.kernel.gradient[:] = (np.r_[grads[1:]]).flat\n",
      "        \n",
      "    def predict(self, Xnew):\n",
      "        Kx = self.kernel.K(Xnew, self.X)\n",
      "        \n",
      "        mu = Kx.dot(self._Kinv.dot(self.Y))\n",
      "        var = self.kernel.K(Xnew, Xnew) - Kx.dot(self._Kinv).dot(Kx.T)\n",
      "            \n",
      "        return mu, var\n",
      "        "
     ],
     "language": "python",
     "metadata": {},
     "outputs": [],
     "prompt_number": 50
    },
    {
     "cell_type": "code",
     "collapsed": false,
     "input": [
      "class RBF(GPy.core.Parameterized):\n",
      "    \n",
      "    def __init__(self, input_dim, alpha=None, lengthscale=None, ARD=False, name='rbf'):\n",
      "        super(RBF, self).__init__(name=name)\n",
      "        if alpha is None:\n",
      "            alpha = 1.\n",
      "        self.alpha = GPy.Param('alpha', alpha, GPy.constraints.Logexp())\n",
      "        if lengthscale is None:\n",
      "            if ARD:\n",
      "                lengthscale = np.ones(input_dim)\n",
      "            else:\n",
      "                lengthscale = 1.\n",
      "        self.lengthscale = GPy.Param('lengthscale', lengthscale)\n",
      "        print self.lengthscale.values\n",
      "        print self.alpha.values\n",
      "        self.link_parameters(self.alpha, self.lengthscale)\n",
      "        \n",
      "        self.T_alpha = T.dvector('alpha')\n",
      "        self.T_lengthscale = T.dvector('lengthscale')\n",
      "        self.T_list = [self.T_alpha, self.T_lengthscale]# must be defined to be used in upper classes\n",
      "        \n",
      "    def init_theano(self, X1, X2):\n",
      "        self.T_X1 = X1\n",
      "        self.T_X2 = X2\n",
      "        self.T_K = self.T_alpha[0] * T.exp(-.5*T.sum(T.sqr((self.T_X1[:, None, :]-self.T_X2[None, :, :])/self.T_lengthscale), -1))\n",
      "        self.f_K = theano.function([self.T_X1, self.T_X2, self.T_alpha, self.T_lengthscale], self.T_K)\n",
      "    \n",
      "    def K(self, X1, X2=None):\n",
      "        if X2 is None:\n",
      "            return self.f_K(X1, X1, self.alpha, self.lengthscale)\n",
      "        else:\n",
      "            return self.f_K(X1, X2, self.alpha, self.lengthscale)"
     ],
     "language": "python",
     "metadata": {},
     "outputs": [],
     "prompt_number": 51
    },
    {
     "cell_type": "code",
     "collapsed": false,
     "input": [
      "k = RBF(p)"
     ],
     "language": "python",
     "metadata": {},
     "outputs": [
      {
       "output_type": "stream",
       "stream": "stdout",
       "text": [
        "[ 1.]\n",
        "[ 1.]\n"
       ]
      }
     ],
     "prompt_number": 52
    },
    {
     "cell_type": "code",
     "collapsed": false,
     "input": [
      "m = GP(X,Y,k)\n",
      "m"
     ],
     "language": "python",
     "metadata": {},
     "outputs": [
      {
       "html": [
        "<style type=\"text/css\">\n",
        ".pd{\n",
        "    font-family: \"Courier New\", Courier, monospace !important;\n",
        "    width: 100%;\n",
        "    padding: 3px;\n",
        "}\n",
        "</style>\n",
        "\n",
        "<p class=pd>\n",
        "<b>Model</b>: GP<br>\n",
        "<b>Log-likelihood</b>: -47.7949537411<br>\n",
        "<b>Number of Parameters</b>: 3<br>\n",
        "<b>Updates</b>: True<br>\n",
        "</p>\n",
        "<style type=\"text/css\">\n",
        ".tg  {font-family:\"Courier New\", Courier, monospace !important;padding:2px 3px;word-break:normal;border-collapse:collapse;border-spacing:0;border-color:#DCDCDC;margin:0px auto;width:100%;}\n",
        ".tg td{font-family:\"Courier New\", Courier, monospace !important;font-weight:bold;color:#444;background-color:#F7FDFA;border-style:solid;border-width:1px;overflow:hidden;word-break:normal;border-color:#DCDCDC;}\n",
        ".tg th{font-family:\"Courier New\", Courier, monospace !important;font-weight:normal;color:#fff;background-color:#26ADE4;border-style:solid;border-width:1px;overflow:hidden;word-break:normal;border-color:#DCDCDC;}\n",
        ".tg .tg-left{font-family:\"Courier New\", Courier, monospace !important;font-weight:normal;text-align:left;}\n",
        ".tg .tg-right{font-family:\"Courier New\", Courier, monospace !important;font-weight:normal;text-align:right;}\n",
        "</style>\n",
        "<table class=\"tg\">\n",
        "<tr>\n",
        "  <th><b>GP.</b></th>\n",
        "  <th><b>Value</b></th>\n",
        "  <th><b>Constraint</b></th>\n",
        "  <th><b>Prior</b></th>\n",
        "  <th><b>Tied to</b></th>\n",
        "</tr>\n",
        "<tr><td class=tg-left>noise          </td><td class=tg-right>  1.0</td><td class=tg-left>   +ve    </td><td class=tg-left>     </td><td class=tg-left>       </td></tr>\n",
        "<tr><td class=tg-left>rbf.alpha      </td><td class=tg-right>  1.0</td><td class=tg-left>   +ve    </td><td class=tg-left>     </td><td class=tg-left>       </td></tr>\n",
        "<tr><td class=tg-left>rbf.lengthscale</td><td class=tg-right>  1.0</td><td class=tg-left>          </td><td class=tg-left>     </td><td class=tg-left>       </td></tr>\n",
        "</table>"
       ],
       "metadata": {},
       "output_type": "pyout",
       "prompt_number": 53,
       "text": [
        "<__main__.GP at 0x114b39650>"
       ]
      }
     ],
     "prompt_number": 53
    },
    {
     "cell_type": "code",
     "collapsed": false,
     "input": [
      "m.optimize(messages=1, ipython_notebook=1)"
     ],
     "language": "python",
     "metadata": {},
     "outputs": [],
     "prompt_number": 76
    },
    {
     "cell_type": "code",
     "collapsed": false,
     "input": [
      "m.checkgrad(1)"
     ],
     "language": "python",
     "metadata": {},
     "outputs": [
      {
       "output_type": "stream",
       "stream": "stdout",
       "text": [
        "            Name            |     Ratio     |  Difference   |  Analytical   |   Numerical   |   dF_ratio    \n",
        "------------------------------------------------------------------------------------------------------------\n",
        "\u001b[92m GP.noise[[0]] \u001b[0m             |   1.001995    |   0.000000    |   0.000044    |   0.000044    |     5e-12     \n",
        "\u001b[94m GP.rbf.alpha[[0]] \u001b[0m         |   1.039826    |   0.000000    |   -0.000005   |   -0.000005   |     6e-13     \n",
        "\u001b[92m GP.rbf.lengthscale[[0]] \u001b[0m   |   1.002885    |   0.000000    |   -0.000076   |   -0.000076   |     8e-12     \n"
       ]
      },
      {
       "metadata": {},
       "output_type": "pyout",
       "prompt_number": 77,
       "text": [
        "True"
       ]
      }
     ],
     "prompt_number": 77
    },
    {
     "cell_type": "code",
     "collapsed": false,
     "input": [
      "Xpred = np.linspace(0,1,100)[:,None]\n",
      "mu, var = m.predict(Xpred)"
     ],
     "language": "python",
     "metadata": {},
     "outputs": [],
     "prompt_number": 78
    },
    {
     "cell_type": "code",
     "collapsed": false,
     "input": [
      "plt.scatter(X,Y,color='k',marker='x')\n",
      "plt.plot(Xpred, mu, color='g', lw=1.5)\n",
      "plt.fill_between(Xpred[:, 0], mu[:,0]+2*np.sqrt(np.diagonal(var)), mu[:,0]-2*np.sqrt(np.diagonal(var)), color='k', alpha=.2)"
     ],
     "language": "python",
     "metadata": {},
     "outputs": [
      {
       "metadata": {},
       "output_type": "pyout",
       "prompt_number": 79,
       "text": [
        "<matplotlib.collections.PolyCollection at 0x115c8aa50>"
       ]
      },
      {
       "metadata": {},
       "output_type": "display_data",
       "png": "[encoded data removed]",
       "text": [
        "<matplotlib.figure.Figure at 0x115b81cd0>"
       ]
      }
     ],
     "prompt_number": 79
    },
    {
     "cell_type": "code",
     "collapsed": false,
     "input": [],
     "language": "python",
     "metadata": {},
     "outputs": []
    }
   ],
   "metadata": {}
  }
 ]
}