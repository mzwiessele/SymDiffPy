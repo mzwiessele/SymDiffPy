{
 "metadata": {
  "name": "",
  "signature": "sha256:13c8f11a1d8b32cf22d4138672c3e432b880cea6b98075157223a2f531b77e9a"
 },
 "nbformat": 3,
 "nbformat_minor": 0,
 "worksheets": [
  {
   "cells": [
    {
     "cell_type": "code",
     "collapsed": false,
     "input": [
      "from SymDiffPy.kernel.rbf import RBF\n",
      "from SymDiffPy.kernel.sum import Sum\n",
      "from SymDiffPy.models.gp import GP\n",
      "import numpy as np, GPy\n",
      "\n",
      "%matplotlib inline\n",
      "from matplotlib import pyplot as plt"
     ],
     "language": "python",
     "metadata": {},
     "outputs": [],
     "prompt_number": 1
    },
    {
     "cell_type": "code",
     "collapsed": false,
     "input": [
      "n, p, d = 200, 1, 1\n",
      "\n",
      "X = np.random.uniform(-3, 3, (n, p))\n",
      "Y = np.sin(2*X+2) + np.cos(X) + np.random.normal(0, .3, (n, d))\n",
      "Y = (Y-Y.mean(0))/Y.std(0)\n",
      "#Y = 2*X+2 + np.random.normal(0, .3, (n, d))"
     ],
     "language": "python",
     "metadata": {},
     "outputs": [],
     "prompt_number": 2
    },
    {
     "cell_type": "code",
     "collapsed": false,
     "input": [
      "plt.scatter(X, Y)"
     ],
     "language": "python",
     "metadata": {},
     "outputs": [
      {
       "metadata": {},
       "output_type": "pyout",
       "prompt_number": 3,
       "text": [
        "<matplotlib.collections.PathCollection at 0x110f73650>"
       ]
      },
      {
       "metadata": {},
       "output_type": "display_data",
       "png": "[encoded data removed]",
       "text": [
        "<matplotlib.figure.Figure at 0x104e3f410>"
       ]
      }
     ],
     "prompt_number": 3
    },
    {
     "cell_type": "code",
     "collapsed": false,
     "input": [
      "k = Sum([RBF(p, ARD=1), RBF(p), RBF(p, ARD=1)])"
     ],
     "language": "python",
     "metadata": {},
     "outputs": [],
     "prompt_number": 4
    },
    {
     "cell_type": "code",
     "collapsed": false,
     "input": [
      "m = GP(X, Y, k)"
     ],
     "language": "python",
     "metadata": {},
     "outputs": [],
     "prompt_number": 5
    },
    {
     "cell_type": "code",
     "collapsed": false,
     "input": [
      "m.randomize()"
     ],
     "language": "python",
     "metadata": {},
     "outputs": [],
     "prompt_number": 6
    },
    {
     "cell_type": "code",
     "collapsed": false,
     "input": [
      "m.checkgrad(1)"
     ],
     "language": "python",
     "metadata": {},
     "outputs": [
      {
       "output_type": "stream",
       "stream": "stdout",
       "text": [
        "               Name               |     Ratio     |  Difference   |  Analytical   |   Numerical   |   dF_ratio    \n",
        "------------------------------------------------------------------------------------------------------------------\n",
        "\u001b[92m GP.noise[[0]] \u001b[0m                   |   1.000000    |   0.000000    |   52.499948   |   52.499948   |     6e-07     \n",
        "\u001b[92m GP.sum.rbf_3.alpha[[0]] \u001b[0m         |   1.000000    |   0.000000    |   7.770461    |   7.770461    |     8e-08     "
       ]
      },
      {
       "output_type": "stream",
       "stream": "stdout",
       "text": [
        "\n",
        "\u001b[92m GP.sum.rbf_3.lengthscale[[0]] \u001b[0m   |   1.000000    |   0.000000    |  298.526232   |  298.526232   |     3e-06     \n",
        "\u001b[92m GP.sum.rbf_1.alpha[[0]] \u001b[0m         |   1.000000    |   0.000000    |   0.198602    |   0.198603    |     2e-09     "
       ]
      },
      {
       "output_type": "stream",
       "stream": "stdout",
       "text": [
        "\n",
        "\u001b[92m GP.sum.rbf_1.lengthscale[[0]] \u001b[0m   |   1.000000    |   0.000000    |   -1.644975   |   -1.644975   |     2e-08     \n",
        "\u001b[92m GP.sum.rbf_2.alpha[[0]] \u001b[0m         |   1.000000    |   0.000000    |   0.028462    |   0.028462    |     3e-10     "
       ]
      },
      {
       "output_type": "stream",
       "stream": "stdout",
       "text": [
        "\n",
        "\u001b[92m GP.sum.rbf_2.lengthscale[[0]] \u001b[0m   |   1.000000    |   0.000000    |   0.303049    |   0.303049    |     3e-09     \n"
       ]
      },
      {
       "metadata": {},
       "output_type": "pyout",
       "prompt_number": 7,
       "text": [
        "True"
       ]
      }
     ],
     "prompt_number": 7
    },
    {
     "cell_type": "code",
     "collapsed": false,
     "input": [
      "m.kernel.rbf_1.lengthscale.set_prior(GPy.priors.Gamma.from_EV(7,1))\n",
      "m.kernel.rbf_2.lengthscale.set_prior(GPy.priors.Gamma.from_EV(30,10))"
     ],
     "language": "python",
     "metadata": {},
     "outputs": [
      {
       "output_type": "stream",
       "stream": "stdout",
       "text": [
        "Warning: changing parameters to satisfy constraints\n"
       ]
      }
     ],
     "prompt_number": 8
    },
    {
     "cell_type": "code",
     "collapsed": false,
     "input": [
      "m.noise[:] = .2"
     ],
     "language": "python",
     "metadata": {},
     "outputs": [],
     "prompt_number": 9
    },
    {
     "cell_type": "code",
     "collapsed": false,
     "input": [
      "m.optimize(messages=1, ipython_notebook=1)"
     ],
     "language": "python",
     "metadata": {},
     "outputs": [],
     "prompt_number": 10
    },
    {
     "cell_type": "code",
     "collapsed": false,
     "input": [
      "m.plot()"
     ],
     "language": "python",
     "metadata": {},
     "outputs": [
      {
       "metadata": {},
       "output_type": "display_data",
       "png": "[encoded data removed]",
       "text": [
        "<matplotlib.figure.Figure at 0x110f7ca10>"
       ]
      }
     ],
     "prompt_number": 11
    },
    {
     "cell_type": "code",
     "collapsed": false,
     "input": [
      "m"
     ],
     "language": "python",
     "metadata": {},
     "outputs": [
      {
       "html": [
        "<style type=\"text/css\">\n",
        ".pd{\n",
        "    font-family: \"Courier New\", Courier, monospace !important;\n",
        "    width: 100%;\n",
        "    padding: 3px;\n",
        "}\n",
        "</style>\n",
        "\n",
        "<p class=pd>\n",
        "<b>Model</b>: GP<br>\n",
        "<b>Log-likelihood</b>: -42.7549256327<br>\n",
        "<b>Number of Parameters</b>: 7<br>\n",
        "<b>Updates</b>: True<br>\n",
        "</p>\n",
        "<style type=\"text/css\">\n",
        ".tg  {font-family:\"Courier New\", Courier, monospace !important;padding:2px 3px;word-break:normal;border-collapse:collapse;border-spacing:0;border-color:#DCDCDC;margin:0px auto;width:100%;}\n",
        ".tg td{font-family:\"Courier New\", Courier, monospace !important;font-weight:bold;color:#444;background-color:#F7FDFA;border-style:solid;border-width:1px;overflow:hidden;word-break:normal;border-color:#DCDCDC;}\n",
        ".tg th{font-family:\"Courier New\", Courier, monospace !important;font-weight:normal;color:#fff;background-color:#26ADE4;border-style:solid;border-width:1px;overflow:hidden;word-break:normal;border-color:#DCDCDC;}\n",
        ".tg .tg-left{font-family:\"Courier New\", Courier, monospace !important;font-weight:normal;text-align:left;}\n",
        ".tg .tg-right{font-family:\"Courier New\", Courier, monospace !important;font-weight:normal;text-align:right;}\n",
        "</style>\n",
        "<table class=\"tg\">\n",
        "<tr>\n",
        "  <th><b>GP.</b></th>\n",
        "  <th><b>Value</b></th>\n",
        "  <th><b>Constraint</b></th>\n",
        "  <th><b>Prior</b></th>\n",
        "  <th><b>Tied to</b></th>\n",
        "</tr>\n",
        "<tr><td class=tg-left>noise                </td><td class=tg-right>  0.0730877615461</td><td class=tg-left>   +ve    </td><td class=tg-left>         </td><td class=tg-left>       </td></tr>\n",
        "<tr><td class=tg-left>sum.rbf_3.alpha      </td><td class=tg-right>    1.48332387033</td><td class=tg-left>   +ve    </td><td class=tg-left>         </td><td class=tg-left>       </td></tr>\n",
        "<tr><td class=tg-left>sum.rbf_3.lengthscale</td><td class=tg-right>   -1.06179944283</td><td class=tg-left>          </td><td class=tg-left>         </td><td class=tg-left>       </td></tr>\n",
        "<tr><td class=tg-left>sum.rbf_1.alpha      </td><td class=tg-right>1.51099008308e-15</td><td class=tg-left>   +ve    </td><td class=tg-left>         </td><td class=tg-left>       </td></tr>\n",
        "<tr><td class=tg-left>sum.rbf_1.lengthscale</td><td class=tg-right>    6.85693512147</td><td class=tg-left>   +ve    </td><td class=tg-left>Ga(49, 7)</td><td class=tg-left>       </td></tr>\n",
        "<tr><td class=tg-left>sum.rbf_2.alpha      </td><td class=tg-right>9.89434658168e-09</td><td class=tg-left>   +ve    </td><td class=tg-left>         </td><td class=tg-left>       </td></tr>\n",
        "<tr><td class=tg-left>sum.rbf_2.lengthscale</td><td class=tg-right>     29.666753271</td><td class=tg-left>   +ve    </td><td class=tg-left>Ga(90, 3)</td><td class=tg-left>       </td></tr>\n",
        "</table>"
       ],
       "metadata": {},
       "output_type": "pyout",
       "prompt_number": 12,
       "text": [
        "<SymDiffPy.models.gp.GP at 0x11102ce10>"
       ]
      }
     ],
     "prompt_number": 12
    },
    {
     "cell_type": "code",
     "collapsed": false,
     "input": [],
     "language": "python",
     "metadata": {},
     "outputs": []
    }
   ],
   "metadata": {}
  }
 ]
}